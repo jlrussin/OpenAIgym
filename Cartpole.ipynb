{
 "cells": [
  {
   "cell_type": "code",
   "execution_count": 1,
   "metadata": {
    "collapsed": false
   },
   "outputs": [
    {
     "data": {
      "text/plain": [
       "'2.7.13 |Anaconda 4.3.1 (x86_64)| (default, Dec 20 2016, 23:05:08) \\n[GCC 4.2.1 Compatible Apple LLVM 6.0 (clang-600.0.57)]'"
      ]
     },
     "execution_count": 1,
     "metadata": {},
     "output_type": "execute_result"
    }
   ],
   "source": [
    "import gym\n",
    "import sys\n",
    "import numpy as np\n",
    "import matplotlib.pyplot as plt\n",
    "sys.version"
   ]
  },
  {
   "cell_type": "code",
   "execution_count": 2,
   "metadata": {
    "collapsed": false
   },
   "outputs": [
    {
     "name": "stderr",
     "output_type": "stream",
     "text": [
      "[2017-05-27 17:16:08,495] Making new env: CartPole-v0\n"
     ]
    }
   ],
   "source": [
    "env = gym.make('CartPole-v0')"
   ]
  },
  {
   "cell_type": "code",
   "execution_count": 3,
   "metadata": {
    "collapsed": false
   },
   "outputs": [],
   "source": [
    "def run_episode(env, weights):\n",
    "    observation = env.reset()\n",
    "    total_reward = 0\n",
    "    for t in range(200):\n",
    "        y = observation.dot(weights)\n",
    "        action = 0 if y < 0 else 1\n",
    "        observation, reward, done, info = env.step(action)\n",
    "        total_reward += reward\n",
    "        if done:\n",
    "            break\n",
    "    return total_reward"
   ]
  },
  {
   "cell_type": "markdown",
   "metadata": {},
   "source": [
    "### Random search"
   ]
  },
  {
   "cell_type": "code",
   "execution_count": 4,
   "metadata": {
    "collapsed": false
   },
   "outputs": [],
   "source": [
    "best_reward = 0\n",
    "weights = np.random.uniform(-1,1,4)\n",
    "best_weights = weights\n",
    "reward_history = []\n",
    "for i in range(1000):\n",
    "    weights = np.random.uniform(-1,1,4)\n",
    "    reward = run_episode(env, weights) \n",
    "    reward_history.append(reward)\n",
    "    if reward > best_reward:\n",
    "        best_weights = weights\n",
    "        best_reward = reward"
   ]
  },
  {
   "cell_type": "code",
   "execution_count": 5,
   "metadata": {
    "collapsed": false
   },
   "outputs": [
    {
     "data": {
      "text/plain": [
       "47.0"
      ]
     },
     "execution_count": 5,
     "metadata": {},
     "output_type": "execute_result"
    }
   ],
   "source": [
    "run_episode(env, best_weights)"
   ]
  },
  {
   "cell_type": "code",
   "execution_count": 11,
   "metadata": {
    "collapsed": false,
    "scrolled": true
   },
   "outputs": [],
   "source": [
    "observation = env.reset()\n",
    "for t in range(200):\n",
    "    env.render()\n",
    "    y = observation.dot(best_weights)\n",
    "    action = 0 if y < 0 else 1\n",
    "    observation, reward, done, info = env.step(action)\n",
    "    if done:\n",
    "        env.render(close=True)\n",
    "        break\n",
    "        "
   ]
  },
  {
   "cell_type": "code",
   "execution_count": 7,
   "metadata": {
    "collapsed": false
   },
   "outputs": [
    {
     "data": {
      "image/png": "[encoded data removed]",
      "text/plain": [
       "<matplotlib.figure.Figure at 0x111778090>"
      ]
     },
     "metadata": {},
     "output_type": "display_data"
    }
   ],
   "source": [
    "x = np.arange(len(reward_history))\n",
    "plt.bar(x, sorted(reward_history))\n",
    "plt.show()"
   ]
  },
  {
   "cell_type": "markdown",
   "metadata": {},
   "source": [
    "### Hill climbing"
   ]
  },
  {
   "cell_type": "code",
   "execution_count": 12,
   "metadata": {
    "collapsed": false
   },
   "outputs": [],
   "source": [
    "best_weights = np.random.uniform(-1,1,4)\n",
    "reward_history = []\n",
    "for i in range(50):\n",
    "    reward = 0\n",
    "    weights = np.random.uniform(-1,1,4)\n",
    "    new_weights = weights\n",
    "    for j in range(500):\n",
    "        new_weights = weights + np.random.normal(0,.1,4)\n",
    "        new_reward = run_episode(env, new_weights) \n",
    "        if new_reward > reward:\n",
    "            weights = new_weights\n",
    "            reward = new_reward\n",
    "    reward_history.append(reward)\n",
    "    if reward > best_reward:\n",
    "        best_weights = weights\n",
    "        best_reward = reward"
   ]
  },
  {
   "cell_type": "code",
   "execution_count": 13,
   "metadata": {
    "collapsed": true
   },
   "outputs": [],
   "source": [
    "observation = env.reset()\n",
    "for t in range(200):\n",
    "    env.render()\n",
    "    y = observation.dot(best_weights)\n",
    "    action = 0 if y < 0 else 1\n",
    "    observation, reward, done, info = env.step(action)\n",
    "    if done:\n",
    "        env.render(close=True)\n",
    "        break"
   ]
  },
  {
   "cell_type": "code",
   "execution_count": 14,
   "metadata": {
    "collapsed": false
   },
   "outputs": [
    {
     "data": {
      "image/png": "[encoded data removed]",
      "text/plain": [
       "<matplotlib.figure.Figure at 0x119aa3f90>"
      ]
     },
     "metadata": {},
     "output_type": "display_data"
    }
   ],
   "source": [
    "x = np.arange(len(reward_history))\n",
    "plt.bar(x, sorted(reward_history))\n",
    "plt.show()"
   ]
  },
  {
   "cell_type": "code",
   "execution_count": null,
   "metadata": {
    "collapsed": true
   },
   "outputs": [],
   "source": []
  }
 ],
 "metadata": {
  "anaconda-cloud": {},
  "kernelspec": {
   "display_name": "Python 2",
   "language": "python",
   "name": "python2"
  },
  "language_info": {
   "codemirror_mode": {
    "name": "ipython",
    "version": 2
   },
   "file_extension": ".py",
   "mimetype": "text/x-python",
   "name": "python",
   "nbconvert_exporter": "python",
   "pygments_lexer": "ipython2",
   "version": "2.7.13"
  }
 },
 "nbformat": 4,
 "nbformat_minor": 0
}
